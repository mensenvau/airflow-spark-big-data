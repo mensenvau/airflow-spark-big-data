{
 "cells": [
  {
   "cell_type": "code",
   "execution_count": 5,
   "id": "0c85c34e-6c4f-4e01-8941-05b469c1c18b",
   "metadata": {},
   "outputs": [
    {
     "data": {
      "text/html": [
       "\n",
       "            <div>\n",
       "                <p><b>SparkSession - in-memory</b></p>\n",
       "                \n",
       "        <div>\n",
       "            <p><b>SparkContext</b></p>\n",
       "\n",
       "            <p><a href=\"http://1905ea4de407:4040\">Spark UI</a></p>\n",
       "\n",
       "            <dl>\n",
       "              <dt>Version</dt>\n",
       "                <dd><code>v3.5.0</code></dd>\n",
       "              <dt>Master</dt>\n",
       "                <dd><code>spark://spark-master:7077</code></dd>\n",
       "              <dt>AppName</dt>\n",
       "                <dd><code>test</code></dd>\n",
       "            </dl>\n",
       "        </div>\n",
       "        \n",
       "            </div>\n",
       "        "
      ],
      "text/plain": [
       "<pyspark.sql.session.SparkSession at 0xffff97326210>"
      ]
     },
     "execution_count": 5,
     "metadata": {},
     "output_type": "execute_result"
    }
   ],
   "source": [
    "from pyspark.sql import SparkSession\n",
    "\n",
    "# Setup Session and Configure Spark to talk to MinIO (S3-compatible)\n",
    "spark = SparkSession.builder \\\n",
    "    .appName(\"test\") \\\n",
    "    .master(\"spark://spark-master:7077\") \\\n",
    "    .config(\"spark.jars\", \",\".join([\n",
    "        \"/opt/spark/jars/hadoop-aws-3.3.6.jar\",\n",
    "        \"/opt/spark/jars/aws-java-sdk-bundle-1.12.517.jar\",\n",
    "        \"/opt/spark/jars/hadoop-common-3.3.6.jar\",\n",
    "        \"/opt/spark/jars/hadoop-hdfs-client-3.3.6.jar\"\n",
    "    ])) \\\n",
    "    .getOrCreate()\n",
    "\n",
    "spark._jsc.hadoopConfiguration().set(\"fs.s3a.endpoint\", \"http://minio:9000\")\n",
    "spark._jsc.hadoopConfiguration().set(\"fs.s3a.access.key\", \"minioadmin\")  # or your actual key\n",
    "spark._jsc.hadoopConfiguration().set(\"fs.s3a.secret.key\", \"minioadmin\")  # or your actual secret\n",
    "spark._jsc.hadoopConfiguration().set(\"fs.s3a.path.style.access\", \"true\")\n",
    "spark._jsc.hadoopConfiguration().set(\"fs.s3a.impl\", \"org.apache.hadoop.fs.s3a.S3AFileSystem\")\n",
    "\n",
    "spark"
   ]
  },
  {
   "cell_type": "code",
   "execution_count": 6,
   "id": "4ad38fb0-ebd9-45a5-9a12-2104e205cfc4",
   "metadata": {},
   "outputs": [
    {
     "name": "stdout",
     "output_type": "stream",
     "text": [
      "+-------------------+---+\n",
      "|          full_name|age|\n",
      "+-------------------+---+\n",
      "|      Utkir Khujaev| 25|\n",
      "|Sabohat Hamroqulova| 22|\n",
      "+-------------------+---+\n",
      "\n"
     ]
    }
   ],
   "source": [
    "df = spark.read.csv(\"file:/mnt/shared/data/input.csv\", header=True)\n",
    "df.show()\n",
    "df.write.mode(\"overwrite\").csv(\"s3a://data-lake/output/\")"
   ]
  }
 ],
 "metadata": {
  "kernelspec": {
   "display_name": "Python 3 (ipykernel)",
   "language": "python",
   "name": "python3"
  },
  "language_info": {
   "codemirror_mode": {
    "name": "ipython",
    "version": 3
   },
   "file_extension": ".py",
   "mimetype": "text/x-python",
   "name": "python",
   "nbconvert_exporter": "python",
   "pygments_lexer": "ipython3",
   "version": "3.11.6"
  }
 },
 "nbformat": 4,
 "nbformat_minor": 5
}
